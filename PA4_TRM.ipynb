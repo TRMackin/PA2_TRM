{
 "cells": [
  {
   "cell_type": "markdown",
   "id": "724ada9a",
   "metadata": {},
   "source": [
    "# Programming Assignment 2\n",
    "### Thomas Mackin\n",
    "#### Version 1\n",
    "#### CS-150-01 Fall 2022"
   ]
  },
  {
   "cell_type": "markdown",
   "id": "344c3a92",
   "metadata": {},
   "source": [
    "### append()\n",
    "* When you append an item into a list it is added to the end of the list"
   ]
  },
  {
   "cell_type": "code",
   "execution_count": 1,
   "id": "a34199b0",
   "metadata": {},
   "outputs": [
    {
     "name": "stdout",
     "output_type": "stream",
     "text": [
      "['Honda', 'Ferrari', 'Mercedes', 'Renault']\n"
     ]
    }
   ],
   "source": [
    "cars=['Honda','Ferrari','Mercedes','Renault']\n",
    "print(cars)"
   ]
  },
  {
   "cell_type": "code",
   "execution_count": 2,
   "id": "025a3481",
   "metadata": {},
   "outputs": [
    {
     "name": "stdout",
     "output_type": "stream",
     "text": [
      "['Honda', 'Ferrari', 'Mercedes', 'Renault', 'Ford', 'Chevorlet', 'Dodge']\n"
     ]
    }
   ],
   "source": [
    "cars.append('Ford')\n",
    "cars.append('Chevorlet')\n",
    "cars.append('Dodge')\n",
    "print(cars)"
   ]
  },
  {
   "cell_type": "markdown",
   "id": "45b38bac",
   "metadata": {},
   "source": [
    "### extend()\n",
    "* Used to add a different list to the end of another list"
   ]
  },
  {
   "cell_type": "code",
   "execution_count": 3,
   "id": "4329051e",
   "metadata": {
    "scrolled": true
   },
   "outputs": [
    {
     "name": "stdout",
     "output_type": "stream",
     "text": [
      "['Honda', 'Ferrari', 'Mercedes', 'Renault', 'Ford', 'Chevorlet', 'Dodge']\n"
     ]
    }
   ],
   "source": [
    "print(cars)"
   ]
  },
  {
   "cell_type": "code",
   "execution_count": 4,
   "id": "b72fd563",
   "metadata": {},
   "outputs": [
    {
     "name": "stdout",
     "output_type": "stream",
     "text": [
      "('Tesla', 'Rivian', 'Polaris')\n"
     ]
    }
   ],
   "source": [
    "more_cars=('Tesla','Rivian','Polaris')\n",
    "print(more_cars)"
   ]
  },
  {
   "cell_type": "code",
   "execution_count": 5,
   "id": "253607a8",
   "metadata": {},
   "outputs": [
    {
     "name": "stdout",
     "output_type": "stream",
     "text": [
      "['Honda', 'Ferrari', 'Mercedes', 'Renault', 'Ford', 'Chevorlet', 'Dodge', 'Tesla', 'Rivian', 'Polaris']\n"
     ]
    }
   ],
   "source": [
    "cars.extend(more_cars)\n",
    "print(cars)"
   ]
  },
  {
   "cell_type": "markdown",
   "id": "0e9a6328",
   "metadata": {},
   "source": [
    "### insert()\n",
    "* When you insert a new item into a list you can choose where to place the new item"
   ]
  },
  {
   "cell_type": "code",
   "execution_count": 6,
   "id": "7295ea3d",
   "metadata": {},
   "outputs": [
    {
     "name": "stdout",
     "output_type": "stream",
     "text": [
      "['Honda', 'Ferrari', 'Mercedes', 'Renault', 'Ford', 'Chevorlet', 'Dodge', 'Tesla', 'Rivian', 'Polaris']\n"
     ]
    }
   ],
   "source": [
    "print(cars)"
   ]
  },
  {
   "cell_type": "code",
   "execution_count": 7,
   "id": "ac7b7365",
   "metadata": {},
   "outputs": [
    {
     "name": "stdout",
     "output_type": "stream",
     "text": [
      "['Lotus', 'Honda', 'Ferrari', 'Mercedes', 'Renault', 'Ford', 'Chevorlet', 'Dodge', 'Tesla', 'Rivian', 'Polaris']\n"
     ]
    }
   ],
   "source": [
    "cars.insert(0,'Lotus')\n",
    "print(cars)"
   ]
  },
  {
   "cell_type": "code",
   "execution_count": 8,
   "id": "2b39676b",
   "metadata": {},
   "outputs": [
    {
     "name": "stdout",
     "output_type": "stream",
     "text": [
      "['Lotus', 'Honda', 'Ferrari', 'Mercedes', 'Audi', 'Renault', 'Ford', 'Chevorlet', 'Dodge', 'Tesla', 'Rivian', 'Polaris']\n"
     ]
    }
   ],
   "source": [
    "cars.insert(4,'Audi')\n",
    "print(cars)"
   ]
  },
  {
   "cell_type": "code",
   "execution_count": 9,
   "id": "fadeb8db",
   "metadata": {},
   "outputs": [
    {
     "name": "stdout",
     "output_type": "stream",
     "text": [
      "['Lotus', 'Honda', 'Ferrari', 'Mercedes', 'Audi', 'Renault', 'Ford', 'Chevorlet', 'Dodge', 'Porsche', 'Tesla', 'Rivian', 'Polaris']\n"
     ]
    }
   ],
   "source": [
    "cars.insert(9,'Porsche')\n",
    "print(cars)"
   ]
  },
  {
   "cell_type": "markdown",
   "id": "8f80ad89",
   "metadata": {},
   "source": [
    "### remove()\n",
    "* Used when you want to remove any item from a list"
   ]
  },
  {
   "cell_type": "code",
   "execution_count": 10,
   "id": "19fd864e",
   "metadata": {},
   "outputs": [
    {
     "name": "stdout",
     "output_type": "stream",
     "text": [
      "['Lotus', 'Honda', 'Ferrari', 'Mercedes', 'Audi', 'Renault', 'Ford', 'Chevorlet', 'Dodge', 'Porsche', 'Tesla', 'Rivian', 'Polaris']\n"
     ]
    }
   ],
   "source": [
    "print(cars)"
   ]
  },
  {
   "cell_type": "code",
   "execution_count": 11,
   "id": "4817ba2d",
   "metadata": {},
   "outputs": [
    {
     "name": "stdout",
     "output_type": "stream",
     "text": [
      "['Lotus', 'Ferrari', 'Mercedes', 'Audi', 'Renault', 'Ford', 'Chevorlet', 'Dodge', 'Porsche', 'Tesla', 'Rivian', 'Polaris']\n"
     ]
    }
   ],
   "source": [
    "cars.remove('Honda')\n",
    "print(cars)"
   ]
  },
  {
   "cell_type": "code",
   "execution_count": 12,
   "id": "af0f4c38",
   "metadata": {},
   "outputs": [
    {
     "name": "stdout",
     "output_type": "stream",
     "text": [
      "['Lotus', 'Mercedes', 'Audi', 'Renault', 'Ford', 'Chevorlet', 'Dodge', 'Porsche', 'Tesla', 'Rivian', 'Polaris']\n"
     ]
    }
   ],
   "source": [
    "cars.remove('Ferrari')\n",
    "print(cars)"
   ]
  },
  {
   "cell_type": "code",
   "execution_count": 13,
   "id": "79676bee",
   "metadata": {},
   "outputs": [
    {
     "name": "stdout",
     "output_type": "stream",
     "text": [
      "['Lotus', 'Audi', 'Renault', 'Ford', 'Chevorlet', 'Dodge', 'Porsche', 'Tesla', 'Rivian', 'Polaris']\n"
     ]
    }
   ],
   "source": [
    "cars.remove('Mercedes')\n",
    "print(cars)"
   ]
  },
  {
   "cell_type": "code",
   "execution_count": 14,
   "id": "4e987a2f",
   "metadata": {},
   "outputs": [
    {
     "name": "stdout",
     "output_type": "stream",
     "text": [
      "['Lotus', 'Audi', 'Ford', 'Chevorlet', 'Dodge', 'Porsche', 'Tesla', 'Rivian', 'Polaris']\n"
     ]
    }
   ],
   "source": [
    "cars.remove('Renault')\n",
    "print(cars)"
   ]
  },
  {
   "cell_type": "markdown",
   "id": "07d474ae",
   "metadata": {},
   "source": [
    "### count()\n",
    "* Count is used to show how often an item is in a list"
   ]
  },
  {
   "cell_type": "code",
   "execution_count": 15,
   "id": "35894476",
   "metadata": {},
   "outputs": [
    {
     "name": "stdout",
     "output_type": "stream",
     "text": [
      "['Lotus', 'Audi', 'Ford', 'Chevorlet', 'Dodge', 'Porsche', 'Tesla', 'Rivian', 'Polaris']\n"
     ]
    }
   ],
   "source": [
    "print(cars)"
   ]
  },
  {
   "cell_type": "code",
   "execution_count": 16,
   "id": "26213449",
   "metadata": {},
   "outputs": [
    {
     "name": "stdout",
     "output_type": "stream",
     "text": [
      "Lotus is in this list 1 times\n"
     ]
    }
   ],
   "source": [
    "count=cars.count('Lotus')\n",
    "print(\"Lotus is in this list\",count,\"times\")"
   ]
  },
  {
   "cell_type": "code",
   "execution_count": 17,
   "id": "c720dc31",
   "metadata": {},
   "outputs": [
    {
     "name": "stdout",
     "output_type": "stream",
     "text": [
      "Polaris is in this list 1 times\n"
     ]
    }
   ],
   "source": [
    "count=cars.count('Polaris')\n",
    "print(\"Polaris is in this list\",count,\"times\")"
   ]
  },
  {
   "cell_type": "code",
   "execution_count": 18,
   "id": "24ef43d6",
   "metadata": {},
   "outputs": [
    {
     "name": "stdout",
     "output_type": "stream",
     "text": [
      "Porsche is in this list 1 times\n"
     ]
    }
   ],
   "source": [
    "count=cars.count('Porsche')\n",
    "print(\"Porsche is in this list\",count,\"times\")"
   ]
  },
  {
   "cell_type": "markdown",
   "id": "08d8b0ca",
   "metadata": {},
   "source": [
    "### index()\n",
    "* Index is used to identify the position of an item in a list"
   ]
  },
  {
   "cell_type": "code",
   "execution_count": 19,
   "id": "3e22708f",
   "metadata": {},
   "outputs": [
    {
     "name": "stdout",
     "output_type": "stream",
     "text": [
      "['Lotus', 'Audi', 'Ford', 'Chevorlet', 'Dodge', 'Porsche', 'Tesla', 'Rivian', 'Polaris']\n"
     ]
    }
   ],
   "source": [
    "print(cars)"
   ]
  },
  {
   "cell_type": "code",
   "execution_count": 20,
   "id": "e509b40f",
   "metadata": {},
   "outputs": [
    {
     "name": "stdout",
     "output_type": "stream",
     "text": [
      "Lotus\n"
     ]
    }
   ],
   "source": [
    "print(cars[0])"
   ]
  },
  {
   "cell_type": "code",
   "execution_count": 21,
   "id": "56588ef4",
   "metadata": {},
   "outputs": [
    {
     "name": "stdout",
     "output_type": "stream",
     "text": [
      "Ford\n"
     ]
    }
   ],
   "source": [
    "print(cars[2])"
   ]
  },
  {
   "cell_type": "code",
   "execution_count": 22,
   "id": "d4380c9f",
   "metadata": {},
   "outputs": [
    {
     "name": "stdout",
     "output_type": "stream",
     "text": [
      "Polaris\n"
     ]
    }
   ],
   "source": [
    "print(cars[-1])"
   ]
  },
  {
   "cell_type": "code",
   "execution_count": 23,
   "id": "b5745bb5",
   "metadata": {},
   "outputs": [
    {
     "name": "stdout",
     "output_type": "stream",
     "text": [
      "Tesla\n"
     ]
    }
   ],
   "source": [
    "print(cars[-3])"
   ]
  },
  {
   "cell_type": "markdown",
   "id": "19d50d5e",
   "metadata": {},
   "source": [
    "### pop()\n",
    "* When you want to delete an item from a list but want to use it again in another list"
   ]
  },
  {
   "cell_type": "code",
   "execution_count": 24,
   "id": "8ca04dd1",
   "metadata": {
    "scrolled": true
   },
   "outputs": [
    {
     "name": "stdout",
     "output_type": "stream",
     "text": [
      "The deleted car is: Ford\n",
      "The edited cars list is:  ['Lotus', 'Audi', 'Chevorlet', 'Dodge', 'Porsche', 'Tesla', 'Rivian', 'Polaris']\n"
     ]
    }
   ],
   "source": [
    "deleted_cars=cars.pop(2)\n",
    "print(\"The deleted car is:\",deleted_cars)\n",
    "print(\"The edited cars list is: \",cars)"
   ]
  },
  {
   "cell_type": "code",
   "execution_count": 25,
   "id": "c79682a6",
   "metadata": {},
   "outputs": [
    {
     "name": "stdout",
     "output_type": "stream",
     "text": [
      "The deleted car is: Dodge\n",
      "The edited cars list is:  ['Lotus', 'Audi', 'Chevorlet', 'Porsche', 'Tesla', 'Rivian', 'Polaris']\n"
     ]
    }
   ],
   "source": [
    "deleted_cars=cars.pop(3)\n",
    "print(\"The deleted car is:\",deleted_cars)\n",
    "print(\"The edited cars list is: \",cars)"
   ]
  },
  {
   "cell_type": "code",
   "execution_count": 26,
   "id": "b83ec1a6",
   "metadata": {
    "scrolled": true
   },
   "outputs": [
    {
     "name": "stdout",
     "output_type": "stream",
     "text": [
      "The deleted car is: Chevorlet\n",
      "The edited cars list is:  ['Lotus', 'Audi', 'Porsche', 'Tesla', 'Rivian', 'Polaris']\n"
     ]
    }
   ],
   "source": [
    "deleted_cars=cars.pop(2)\n",
    "print(\"The deleted car is:\",deleted_cars)\n",
    "print(\"The edited cars list is: \",cars)"
   ]
  },
  {
   "cell_type": "markdown",
   "id": "78c5b935",
   "metadata": {},
   "source": [
    "### sorted()\n",
    "* When you want to sort the items in your list\n",
    "* Using .sort permanently sorts the list"
   ]
  },
  {
   "cell_type": "code",
   "execution_count": 27,
   "id": "2b6c47d9",
   "metadata": {},
   "outputs": [
    {
     "name": "stdout",
     "output_type": "stream",
     "text": [
      "['Lotus', 'Audi', 'Porsche', 'Tesla', 'Rivian', 'Polaris']\n"
     ]
    }
   ],
   "source": [
    "print(cars)"
   ]
  },
  {
   "cell_type": "code",
   "execution_count": 28,
   "id": "68577002",
   "metadata": {},
   "outputs": [
    {
     "name": "stdout",
     "output_type": "stream",
     "text": [
      "['Lotus', 'Audi', 'Porsche', 'Tesla', 'Rivian', 'Polaris']\n"
     ]
    }
   ],
   "source": [
    "sorted(cars)\n",
    "print(cars)"
   ]
  },
  {
   "cell_type": "code",
   "execution_count": 29,
   "id": "e219a76e",
   "metadata": {
    "scrolled": true
   },
   "outputs": [
    {
     "name": "stdout",
     "output_type": "stream",
     "text": [
      "['Lotus', 'Audi', 'Porsche', 'Tesla', 'Rivian', 'Polaris']\n"
     ]
    }
   ],
   "source": [
    "print(cars)"
   ]
  },
  {
   "cell_type": "code",
   "execution_count": 30,
   "id": "31a2ad82",
   "metadata": {},
   "outputs": [
    {
     "name": "stdout",
     "output_type": "stream",
     "text": [
      "['Polaris', 'Rivian', 'Tesla', 'Porsche', 'Audi', 'Lotus']\n"
     ]
    }
   ],
   "source": [
    "cars.reverse()\n",
    "print(cars)"
   ]
  },
  {
   "cell_type": "code",
   "execution_count": 31,
   "id": "8d6d9afe",
   "metadata": {
    "scrolled": true
   },
   "outputs": [
    {
     "name": "stdout",
     "output_type": "stream",
     "text": [
      "['Lotus', 'Audi', 'Porsche', 'Tesla', 'Rivian', 'Polaris']\n"
     ]
    }
   ],
   "source": [
    "cars.reverse()\n",
    "print(cars)"
   ]
  },
  {
   "cell_type": "code",
   "execution_count": 32,
   "id": "4e3699f9",
   "metadata": {},
   "outputs": [
    {
     "name": "stdout",
     "output_type": "stream",
     "text": [
      "['Audi', 'Lotus', 'Polaris', 'Porsche', 'Rivian', 'Tesla']\n"
     ]
    }
   ],
   "source": [
    "cars.sort()\n",
    "print(cars)"
   ]
  },
  {
   "cell_type": "markdown",
   "id": "a60afc7c",
   "metadata": {},
   "source": [
    "### copy()\n",
    "* Used when you want to make a copy of a list that is seperate from the original"
   ]
  },
  {
   "cell_type": "code",
   "execution_count": 33,
   "id": "2aac7def",
   "metadata": {},
   "outputs": [
    {
     "name": "stdout",
     "output_type": "stream",
     "text": [
      "['Audi', 'Lotus', 'Polaris', 'Porsche', 'Rivian', 'Tesla']\n"
     ]
    }
   ],
   "source": [
    "print(cars)"
   ]
  },
  {
   "cell_type": "code",
   "execution_count": 34,
   "id": "5901a935",
   "metadata": {},
   "outputs": [
    {
     "name": "stdout",
     "output_type": "stream",
     "text": [
      "The original list is: ['Audi', 'Lotus', 'Polaris', 'Porsche', 'Rivian', 'Tesla']\n",
      "The copied list is: ['Audi', 'Lotus', 'Polaris', 'Porsche', 'Rivian', 'Tesla']\n"
     ]
    }
   ],
   "source": [
    "copied_cars=cars.copy()\n",
    "print(\"The original list is:\",cars)\n",
    "print(\"The copied list is:\",copied_cars)"
   ]
  },
  {
   "cell_type": "code",
   "execution_count": 35,
   "id": "a3f53a9c",
   "metadata": {},
   "outputs": [
    {
     "name": "stdout",
     "output_type": "stream",
     "text": [
      "['Tesla', 'Rivian', 'Porsche', 'Polaris', 'Lotus', 'Audi']\n"
     ]
    }
   ],
   "source": [
    "copied_cars.reverse()\n",
    "print(copied_cars)"
   ]
  },
  {
   "cell_type": "code",
   "execution_count": 36,
   "id": "0c962d2e",
   "metadata": {},
   "outputs": [
    {
     "name": "stdout",
     "output_type": "stream",
     "text": [
      "['Audi', 'Lotus', 'Polaris', 'Porsche', 'Rivian', 'Tesla']\n"
     ]
    }
   ],
   "source": [
    "print(cars)"
   ]
  },
  {
   "cell_type": "markdown",
   "id": "cd72bfbe",
   "metadata": {},
   "source": [
    "### clear()\n",
    "* Used when you want to remove all items from a list"
   ]
  },
  {
   "cell_type": "code",
   "execution_count": 37,
   "id": "bd435a3d",
   "metadata": {},
   "outputs": [
    {
     "name": "stdout",
     "output_type": "stream",
     "text": [
      "['Tesla', 'Rivian', 'Porsche', 'Polaris', 'Lotus', 'Audi']\n"
     ]
    }
   ],
   "source": [
    "print(copied_cars)"
   ]
  },
  {
   "cell_type": "code",
   "execution_count": 38,
   "id": "17bfae4c",
   "metadata": {},
   "outputs": [
    {
     "name": "stdout",
     "output_type": "stream",
     "text": [
      "[]\n"
     ]
    }
   ],
   "source": [
    "copied_cars.clear()\n",
    "print(copied_cars)"
   ]
  },
  {
   "cell_type": "markdown",
   "id": "a1f35bb5",
   "metadata": {},
   "source": [
    "### list()\n",
    "* Used to make an item into its own list"
   ]
  },
  {
   "cell_type": "code",
   "execution_count": 39,
   "id": "8fc533d4",
   "metadata": {},
   "outputs": [],
   "source": [
    "favorite_car=\"Lotus\""
   ]
  },
  {
   "cell_type": "code",
   "execution_count": 40,
   "id": "f7824cf5",
   "metadata": {},
   "outputs": [
    {
     "name": "stdout",
     "output_type": "stream",
     "text": [
      "['L', 'o', 't', 'u', 's']\n"
     ]
    }
   ],
   "source": [
    "favorite_car_list=list(favorite_car)\n",
    "print(favorite_car_list)"
   ]
  },
  {
   "cell_type": "markdown",
   "id": "58c32df0",
   "metadata": {},
   "source": [
    "### len()\n",
    "* Used when you want to find the length of a list"
   ]
  },
  {
   "cell_type": "code",
   "execution_count": 41,
   "id": "402b5db9",
   "metadata": {},
   "outputs": [
    {
     "name": "stdout",
     "output_type": "stream",
     "text": [
      "['Audi', 'Lotus', 'Polaris', 'Porsche', 'Rivian', 'Tesla']\n"
     ]
    }
   ],
   "source": [
    "print(cars)"
   ]
  },
  {
   "cell_type": "code",
   "execution_count": 42,
   "id": "8cb1fda6",
   "metadata": {},
   "outputs": [
    {
     "data": {
      "text/plain": [
       "6"
      ]
     },
     "execution_count": 42,
     "metadata": {},
     "output_type": "execute_result"
    }
   ],
   "source": [
    "len(cars)"
   ]
  },
  {
   "cell_type": "markdown",
   "id": "855dbcec",
   "metadata": {},
   "source": [
    "### max()\n",
    "* Used to find the largest item in a list of items"
   ]
  },
  {
   "cell_type": "code",
   "execution_count": 43,
   "id": "da7ba14e",
   "metadata": {},
   "outputs": [
    {
     "name": "stdout",
     "output_type": "stream",
     "text": [
      "['Audi', 'Lotus', 'Polaris', 'Porsche', 'Rivian', 'Tesla']\n"
     ]
    }
   ],
   "source": [
    "print(cars)"
   ]
  },
  {
   "cell_type": "code",
   "execution_count": 44,
   "id": "756f23b8",
   "metadata": {},
   "outputs": [
    {
     "data": {
      "text/plain": [
       "'Tesla'"
      ]
     },
     "execution_count": 44,
     "metadata": {},
     "output_type": "execute_result"
    }
   ],
   "source": [
    "max(cars)"
   ]
  },
  {
   "cell_type": "code",
   "execution_count": 45,
   "id": "758b43f3",
   "metadata": {},
   "outputs": [
    {
     "name": "stdout",
     "output_type": "stream",
     "text": [
      "The largest item in the cars list is: Tesla\n"
     ]
    }
   ],
   "source": [
    "max_car=max(cars)\n",
    "print(\"The largest item in the cars list is:\",max_car)"
   ]
  },
  {
   "cell_type": "markdown",
   "id": "64586930",
   "metadata": {},
   "source": [
    "### min()\n",
    "* Used to find the smallest item in a list of items"
   ]
  },
  {
   "cell_type": "code",
   "execution_count": 46,
   "id": "e2693edc",
   "metadata": {},
   "outputs": [
    {
     "name": "stdout",
     "output_type": "stream",
     "text": [
      "['Audi', 'Lotus', 'Polaris', 'Porsche', 'Rivian', 'Tesla']\n"
     ]
    }
   ],
   "source": [
    "print(cars)"
   ]
  },
  {
   "cell_type": "code",
   "execution_count": 47,
   "id": "f0d07a7c",
   "metadata": {},
   "outputs": [
    {
     "data": {
      "text/plain": [
       "'Audi'"
      ]
     },
     "execution_count": 47,
     "metadata": {},
     "output_type": "execute_result"
    }
   ],
   "source": [
    "min(cars)"
   ]
  },
  {
   "cell_type": "code",
   "execution_count": 48,
   "id": "c730a662",
   "metadata": {},
   "outputs": [
    {
     "name": "stdout",
     "output_type": "stream",
     "text": [
      "The smallest item in the cars list is: Audi\n"
     ]
    }
   ],
   "source": [
    "min_car=min(cars)\n",
    "print(\"The smallest item in the cars list is:\",min_car)"
   ]
  }
 ],
 "metadata": {
  "kernelspec": {
   "display_name": "Python 3 (ipykernel)",
   "language": "python",
   "name": "python3"
  },
  "language_info": {
   "codemirror_mode": {
    "name": "ipython",
    "version": 3
   },
   "file_extension": ".py",
   "mimetype": "text/x-python",
   "name": "python",
   "nbconvert_exporter": "python",
   "pygments_lexer": "ipython3",
   "version": "3.9.12"
  }
 },
 "nbformat": 4,
 "nbformat_minor": 5
}
